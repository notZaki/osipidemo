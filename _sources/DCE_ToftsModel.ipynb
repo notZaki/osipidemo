{
 "cells": [
  {
   "cell_type": "markdown",
   "id": "a5862f18-36b0-48c4-8d73-564dcf0be9f4",
   "metadata": {},
   "source": [
    "# QIBA V6 - Tofts Model"
   ]
  },
  {
   "cell_type": "code",
   "execution_count": null,
   "id": "03cad9b3-3acd-49bb-a8c5-dcaab87ce537",
   "metadata": {
    "tags": [
     "hide-input"
    ]
   },
   "outputs": [],
   "source": [
    "import os\n",
    "import matplotlib.pyplot as plt\n",
    "plt.style.use('https://gist.github.com/notZaki/8bfb049230e307f4432fd68d24c603a1/raw/c0baa2a1c55afdf1764b26ee2ebeb1cbf26d8d98/pltstyle')"
   ]
  },
  {
   "cell_type": "markdown",
   "id": "79a478d1-6ab4-4b48-ad94-7ebd14620e39",
   "metadata": {},
   "source": [
    "The following tests are on the [QIBA](https://sites.duke.edu/dblab/qibacontent/) v6 phantom which simulates the Tofts model. \n",
    "\n",
    "First, let's load the required modules and download the data:"
   ]
  },
  {
   "cell_type": "code",
   "execution_count": null,
   "id": "bf622a24-f5b7-4d0e-9a16-1691a06ebb00",
   "metadata": {},
   "outputs": [],
   "source": [
    "from osipi.wrappers.tofts import tofts_fit, show_maps, show_error_maps\n",
    "from osipi.utils.nb import download_osf, loadmat"
   ]
  },
  {
   "cell_type": "code",
   "execution_count": null,
   "id": "4a85725b-f6c2-4e78-978e-e1e1c0f4a86c",
   "metadata": {},
   "outputs": [],
   "source": [
    "# Download the QIBA phantom data\n",
    "url = \"https://osf.io/xhn3y/download\"\n",
    "dcefile = \"./data/qiba_tofts.mat\"\n",
    "download_osf(url, dcefile);\n",
    "\n",
    "# Load the QIBA phantom data\n",
    "dcedata = loadmat(dcefile)"
   ]
  },
  {
   "cell_type": "markdown",
   "id": "8ea1a885-ee37-40b6-a659-c070cd20af93",
   "metadata": {},
   "source": [
    "The QIBA phantom contains 6 ktrans values and 5 ve values, resulting in 30 total parameter combinations:"
   ]
  },
  {
   "cell_type": "code",
   "execution_count": null,
   "id": "5c64e94c-edbe-46d4-9a70-63dc49ccc9b8",
   "metadata": {},
   "outputs": [],
   "source": [
    "show_maps(kt = dcedata.kt, ve = dcedata.ve, truth = dcedata)"
   ]
  },
  {
   "cell_type": "markdown",
   "id": "22ec4a6e-f054-483e-9400-a981ec0ffb72",
   "metadata": {},
   "source": [
    "## Model fitting\n",
    "\n",
    "### Linear least squares\n",
    "\n",
    "Linear least squares fitting is fast, but might be more sensitive to noise. There are two implentations using linear least squares.\n",
    "\n",
    "**Linear implementation 1**"
   ]
  },
  {
   "cell_type": "code",
   "execution_count": null,
   "id": "0dcc50da-30e8-445f-aaff-9977175cf441",
   "metadata": {
    "tags": [
     "hide-input"
    ]
   },
   "outputs": [],
   "source": [
    "%%time\n",
    "fits = tofts_fit(\"manchester\", data = dcedata)\n",
    "show_error_maps(fits, truth = dcedata, clim = (-2, 2), showcbar = True)"
   ]
  },
  {
   "cell_type": "markdown",
   "id": "7b6f4fb3-8637-43d1-a73f-30023edfc715",
   "metadata": {},
   "source": [
    "**Linear implementation 2**"
   ]
  },
  {
   "cell_type": "code",
   "execution_count": null,
   "id": "0fc0117a-72fc-43cb-898e-7d964957c596",
   "metadata": {
    "tags": [
     "hide-input"
    ]
   },
   "outputs": [],
   "source": [
    "%%time\n",
    "fits = tofts_fit(\"oslo\", data = dcedata, fittype = \"linear\")\n",
    "show_error_maps(fits, truth = dcedata, clim = (-2, 2), showcbar = True)"
   ]
  },
  {
   "cell_type": "markdown",
   "id": "70cfa889-4b06-4039-a999-b018277d7609",
   "metadata": {},
   "source": [
    "### Non-linear least squares\n",
    "\n",
    "Non-linear least squares fitting is slower, but should be more robust to noise. However, as the next section shows, the accuracy can be substantially different between implementations.\n",
    "\n",
    "**Nonlinear implementation 1**"
   ]
  },
  {
   "cell_type": "code",
   "execution_count": null,
   "id": "aacd671f-984b-48db-b745-f2cfd87509e6",
   "metadata": {
    "tags": [
     "hide-input"
    ]
   },
   "outputs": [],
   "source": [
    "%%time\n",
    "fits = tofts_fit(\"oslo\", data = dcedata, fittype = \"nonlinear\")\n",
    "show_error_maps(fits, truth = dcedata, clim = (-2, 2), showcbar = True)"
   ]
  },
  {
   "cell_type": "markdown",
   "id": "59e43f0b-9f69-4167-a9c5-3ee2c5034ed4",
   "metadata": {},
   "source": [
    "**Nonlinear implementation 2**"
   ]
  },
  {
   "cell_type": "code",
   "execution_count": null,
   "id": "177caad4-ca3f-43b7-885e-986c7ed54a96",
   "metadata": {
    "tags": [
     "hide-input"
    ]
   },
   "outputs": [],
   "source": [
    "%%time\n",
    "fits = tofts_fit(\"edinburgh1\", data = dcedata)\n",
    "show_error_maps(fits, truth = dcedata, clim = (-2, 2), showcbar = True)"
   ]
  },
  {
   "cell_type": "markdown",
   "id": "6c7e388d-c76e-441c-a8e1-7e40edd5f609",
   "metadata": {},
   "source": [
    "**Nonlinear implementation 3**"
   ]
  },
  {
   "cell_type": "code",
   "execution_count": null,
   "id": "2a47f102-ca71-47af-8ff4-677e3896cbba",
   "metadata": {
    "tags": [
     "hide-input"
    ]
   },
   "outputs": [],
   "source": [
    "%%time\n",
    "fits = tofts_fit(\"edinburgh2\", data = dcedata)\n",
    "show_error_maps(fits, truth = dcedata, clim = (-2, 2), showcbar = True)"
   ]
  },
  {
   "cell_type": "markdown",
   "id": "a92c00b9-361e-48f8-b458-503d4f6db479",
   "metadata": {},
   "source": [
    "**Nonlinear implementation 4**"
   ]
  },
  {
   "cell_type": "code",
   "execution_count": null,
   "id": "6779de51-9bae-479f-a972-afc6b807e630",
   "metadata": {
    "tags": [
     "hide-input"
    ]
   },
   "outputs": [],
   "source": [
    "%%time\n",
    "fits = tofts_fit(\"sydney\", data = dcedata)\n",
    "show_error_maps(fits, truth = dcedata, clim = (-2, 2), showcbar = True)"
   ]
  },
  {
   "cell_type": "markdown",
   "id": "e5e6e725-7c87-4c6a-8308-31c5c448dfa8",
   "metadata": {},
   "source": [
    "**Nonlinear implementation 5**"
   ]
  },
  {
   "cell_type": "code",
   "execution_count": null,
   "id": "b5992d07-4d62-4b27-8900-ebdbf02abfff",
   "metadata": {
    "tags": [
     "hide-output",
     "hide-input"
    ]
   },
   "outputs": [],
   "source": [
    "%%time\n",
    "fits = tofts_fit(\"amsterdam\", data = dcedata)"
   ]
  },
  {
   "cell_type": "code",
   "execution_count": null,
   "id": "7b67acc9-89ed-46f5-9f36-1c7cdbe17930",
   "metadata": {
    "tags": [
     "hide-input"
    ]
   },
   "outputs": [],
   "source": [
    "show_error_maps(fits, truth = dcedata, clim = (-2, 2), showcbar = True)"
   ]
  }
 ],
 "metadata": {
  "kernelspec": {
   "display_name": "Python 3",
   "language": "python",
   "name": "python3"
  },
  "language_info": {
   "codemirror_mode": {
    "name": "ipython",
    "version": 3
   },
   "file_extension": ".py",
   "mimetype": "text/x-python",
   "name": "python",
   "nbconvert_exporter": "python",
   "pygments_lexer": "ipython3",
   "version": "3.7.10"
  }
 },
 "nbformat": 4,
 "nbformat_minor": 5
}
