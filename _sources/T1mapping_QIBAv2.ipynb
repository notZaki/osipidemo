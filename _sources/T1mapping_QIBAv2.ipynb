{
 "cells": [
  {
   "cell_type": "markdown",
   "metadata": {},
   "source": [
    "# QIBA v2"
   ]
  },
  {
   "cell_type": "code",
   "execution_count": null,
   "metadata": {
    "tags": [
     "hide-input"
    ]
   },
   "outputs": [],
   "source": [
    "import os\n",
    "import matplotlib.pyplot as plt\n",
    "plt.style.use('https://gist.github.com/notZaki/8bfb049230e307f4432fd68d24c603a1/raw/c0baa2a1c55afdf1764b26ee2ebeb1cbf26d8d98/pltstyle')"
   ]
  },
  {
   "cell_type": "markdown",
   "metadata": {},
   "source": [
    "The following tests are on the [QIBA](https://sites.duke.edu/dblab/qibacontent/) v2 phantom[^1]. \n",
    "The phantom is identical to QIBA v1 with the same 2D grid containing 7 $M_0$ values and 15 $T_1$ values.\n",
    "However, unlike QIBA v1, the v2 phantom has noise with $\\sigma = \\{2, 5, 10, 20, 50, 100\\}$\n",
    "\n",
    "Let's download and load the data:\n",
    "\n",
    "[^1]: This could've been QIBA v3, as v2 and v3 are identical"
   ]
  },
  {
   "cell_type": "code",
   "execution_count": null,
   "metadata": {
    "tags": []
   },
   "outputs": [],
   "source": [
    "from osipi.wrappers.vfa import vfa_fit, show_maps, show_error_maps\n",
    "from osipi.utils.nb import download_osf, loadmat, percenterror, make_error_map_gif\n",
    "\n",
    "datafolder = \"./data\"\n",
    "if not os.path.isdir(datafolder):\n",
    "  os.makedirs(datafolder)\n",
    "\n",
    "vfafile = os.path.join(datafolder, \"vfadata_noisy.mat\")\n",
    "download_osf(\"https://osf.io/3hwtc/download\", vfafile)\n",
    "vfadata = loadmat(vfafile)"
   ]
  },
  {
   "cell_type": "markdown",
   "metadata": {},
   "source": [
    "Although the phantom only contains 7x15 parameter combinations, each of these combinations occupies a 10x10 block, so the phantom size is 70x150. \n",
    "To speed up the fits, only a single voxel from each block will be selected: "
   ]
  },
  {
   "cell_type": "code",
   "execution_count": null,
   "metadata": {
    "tags": []
   },
   "outputs": [],
   "source": [
    "vfadata.signal = vfadata.signal[::10, ::10, :]\n",
    "vfadata.M0 = vfadata.M0[::10, ::10]\n",
    "vfadata.T1 = vfadata.T1[::10, ::10]"
   ]
  },
  {
   "cell_type": "code",
   "execution_count": null,
   "metadata": {},
   "outputs": [],
   "source": [
    "The next section fits the LLS and NLS implementation (from previous notebook) on the noisy phantom"
   ]
  },
  {
   "cell_type": "code",
   "execution_count": null,
   "metadata": {
    "tags": [
     "hide-input"
    ]
   },
   "outputs": [],
   "source": [
    "print(\"========================\")\n",
    "print(\"LINEAR LEAST SQUARES\")\n",
    "print(\" \")\n",
    "\n",
    "print(\"LLS - McGill\")\n",
    "%time mcgill_lls = vfa_fit(author = \"mcgill\", fittype = \"linear\", data = vfadata)\n",
    "print(\" \")\n",
    "\n",
    "print(\"LLS - Edinburgh\")\n",
    "%time edinburgh_lls = vfa_fit(author = \"edinburgh\", fittype = \"linear\", data = vfadata)\n",
    "print(\" \")\n",
    "\n",
    "print(\"LLS - Sydney\")\n",
    "%time sydney_lls = vfa_fit(author = \"sydney\", fittype = \"linear\", data = vfadata)\n",
    "print(\" \")\n",
    "\n",
    "print(\"========================\")\n",
    "print(\"NON-LINEAR LEAST SQUARES\")\n",
    "print(\" \")\n",
    "\n",
    "print(\"NLS - McGill\")\n",
    "%time mcgill_nls = vfa_fit(author = \"mcgill\", fittype = \"nonlinear\", data = vfadata)\n",
    "print(\" \")\n",
    "\n",
    "print(\"NLS - Edinburgh\")\n",
    "%time edinburgh_nls = vfa_fit(author = \"edinburgh\", fittype = \"nonlinear\", data = vfadata)\n",
    "print(\" \")\n",
    "\n",
    "print(\"NLS - Sydney\")\n",
    "%time sydney_nls = vfa_fit(author = \"sydney\", fittype = \"nonlinear\", data = vfadata)\n",
    "print(\" \")"
   ]
  },
  {
   "cell_type": "code",
   "execution_count": null,
   "metadata": {},
   "outputs": [],
   "source": [
    "The percent error map for the 6 noise level is shown in the gif below.\n",
    "As a reminder, the noise levels were: $\\sigma = \\{2, 5, 10, 20, 50, 100\\}$"
   ]
  },
  {
   "cell_type": "code",
   "execution_count": null,
   "metadata": {
    "tags": [
     "hide-input"
    ]
   },
   "outputs": [],
   "source": [
    "drawfunc = lambda idx, title: show_error_maps(mcgill_lls, idx = idx, truth = vfadata, title = title, showcbar = True)\n",
    "make_error_map_gif(drawfunc, title = \"Linear least squares\", filename = \"./images/mcgill_lls_error.gif\")"
   ]
  },
  {
   "cell_type": "markdown",
   "metadata": {},
   "source": [
    "![McGill LLS Error](images/mcgill_lls_error.gif \"McGill LLS Error\")"
   ]
  }
 ],
 "metadata": {
  "kernelspec": {
   "display_name": "Python 3",
   "language": "python",
   "name": "python3"
  },
  "language_info": {
   "codemirror_mode": {
    "name": "ipython",
    "version": 3
   },
   "file_extension": ".py",
   "mimetype": "text/x-python",
   "name": "python",
   "nbconvert_exporter": "python",
   "pygments_lexer": "ipython3",
   "version": "3.7.10"
  }
 },
 "nbformat": 4,
 "nbformat_minor": 4
}
