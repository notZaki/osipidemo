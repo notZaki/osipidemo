{
 "cells": [
  {
   "cell_type": "markdown",
   "metadata": {},
   "source": [
    "# RIDERneuro overview"
   ]
  },
  {
   "cell_type": "code",
   "execution_count": null,
   "metadata": {
    "tags": [
     "hide-input"
    ]
   },
   "outputs": [],
   "source": [
    "import sys\n",
    "sys.path.insert(0, '../src')\n",
    "\n",
    "import original.T1_mapping.MJT_EdinburghUK.t1 as edinburgh\n",
    "import original.T1_mapping.ST_SydneyAus.VFAT1mapping as sydney\n",
    "import original.T1_mapping.McGill.vfa as mcgill\n",
    "import matplotlib.pyplot as plt\n",
    "import os\n",
    "import json\n",
    "import re\n",
    "import urllib.request\n",
    "import nibabel as nib\n",
    "import mat73\n",
    "import numpy as np\n",
    "from numpy.linalg import norm\n",
    "\n",
    "plt.style.use('https://gist.github.com/notZaki/8bfb049230e307f4432fd68d24c603a1/raw/c0baa2a1c55afdf1764b26ee2ebeb1cbf26d8d98/pltstyle')"
   ]
  },
  {
   "cell_type": "code",
   "execution_count": null,
   "metadata": {
    "tags": [
     "hide-input"
    ]
   },
   "outputs": [],
   "source": [
    "def show_maps(fittedmaps, title = \"\"):\n",
    "    fittedM0, fittedT1 = fittedmaps\n",
    "    \n",
    "    climM0 = np.nanquantile(fittedM0, [0.1, 0.98])\n",
    "    fig, (ax1, ax2) = plt.subplots(1, 2, figsize=(16,6))\n",
    "    imM0 = ax1.imshow(fittedM0, clim = climM0)\n",
    "    ax1.grid(False)\n",
    "    plt.sca(ax1)\n",
    "    plt.title(\"M0\")\n",
    "    fig.colorbar(imM0, ax=ax1, orientation='vertical', shrink = 0.5)\n",
    "    \n",
    "    climT1 = np.nanquantile(fittedT1[fittedT1>0], [0.1, 0.98])\n",
    "    imT1 = ax2.imshow(fittedT1, clim = climT1)\n",
    "    ax2.grid(False)\n",
    "    plt.sca(ax2)\n",
    "    plt.title(\"T1\")\n",
    "    fig.colorbar(imT1, ax=ax2, orientation='vertical', shrink = 0.5)\n",
    "    \n",
    "    fig.suptitle(title)\n",
    "    fig.tight_layout()\n",
    "    return\n",
    "\n",
    "def vfa_fit(_signal, _fa, _tr, author, fittype = \"linear\", mask = None):\n",
    "    # Signal: numpy array, last dimension must be flip angle\n",
    "    # fa: flip angles, in radian\n",
    "    # tr: repetition time, in ms\n",
    "    \n",
    "    spatialdims = _signal.shape[:-1]\n",
    "    signal = _signal.reshape(-1, _signal.shape[-1])\n",
    "    if mask != None:\n",
    "        signal = signal[mask[:] > 0, :]\n",
    "        \n",
    "    if author == \"edinburgh\":\n",
    "        fa = _fa\n",
    "        tr = _tr\n",
    "        if fittype == \"nonlinear\":\n",
    "            _M0, _T1 = edinburgh.fit_vfa_nonlinear(signal, fa, tr)\n",
    "        else: # linear\n",
    "            _M0, _T1 = edinburgh.fit_vfa_linear(signal, fa, tr)\n",
    "    elif author == \"sydney\":\n",
    "        fa = np.rad2deg(_fa)\n",
    "        tr = _tr\n",
    "        numvox = np.prod(spatialdims)\n",
    "        _M0 = np.zeros(numvox)\n",
    "        _T1 = np.zeros(numvox)\n",
    "        for idx in range(numvox):\n",
    "            _M0[idx], _T1[idx] = sydney.VFAT1mapping(fa, signal[idx, :], tr, method = fittype)\n",
    "    elif author == \"mcgill\":\n",
    "        fa = _fa\n",
    "        tr = _tr\n",
    "        if fittype == \"nonlinear\":\n",
    "            _M0, _T1 = mcgill.novifast(signal, fa, tr, initialvalues=[10000, 3000])\n",
    "        elif fittype == \"nonlinear_noniterative\":\n",
    "            _M0, _T1 = mcgill.novifast(signal, fa, tr, doiterative = False)\n",
    "        else: # linear\n",
    "            _M0, _T1 = mcgill.despot(signal, fa, tr)\n",
    "    else:\n",
    "        print(\"ERROR: Unexpected author\")\n",
    "        return\n",
    "    \n",
    "    if mask != None:\n",
    "        M0 = np.zeros(spatialdims)\n",
    "        T1 = np.zeros(spatialdims)\n",
    "        M0[mask[:] > 0] = _M0\n",
    "        T1[mask[:] > 0] = _T1\n",
    "    else:\n",
    "        M0 = _M0.reshape(spatialdims)\n",
    "        T1 = _T1.reshape(spatialdims)\n",
    "    return (M0, T1)\n",
    "\n",
    "def remove_leading_slash(pathstring):\n",
    "    if pathstring[0] == \"/\":\n",
    "        return pathstring[1:]\n",
    "    else:\n",
    "        return pathstring\n",
    "\n",
    "\n",
    "def make_folder_for(file):\n",
    "    folder = os.path.dirname(file)\n",
    "    if not os.path.isdir(folder):\n",
    "        os.makedirs(folder)\n",
    "    return\n",
    "\n",
    "\n",
    "def get_manifest(manifestfile, manifesturl = \"https://osf.io/yhbsq/download\"):\n",
    "    if not os.path.isfile(manifestfile):\n",
    "        urllib.request.urlretrieve(manifesturl, manifestfile)\n",
    "    with open(manifestfile) as iostream:\n",
    "        manifest = json.load(iostream)\n",
    "    return manifest\n",
    "\n",
    "\n",
    "def get_rider(subjectid, session, filetype, datafolder = \"./data\"):\n",
    "    # subjectid in [\"01\" to \"19\"]\n",
    "    # session in [1 or 2]\n",
    "    # filetype in [VFA, GRE, perf, mask]\n",
    "\n",
    "    # Download/get manifest\n",
    "    if not os.path.isdir(datafolder): \n",
    "        os.makedirs(datafolder)\n",
    "    manifestfile = os.path.join(datafolder, \"RIDERmanifest.json\")\n",
    "    manifest = get_manifest(manifestfile)\n",
    "\n",
    "    # Find key in manifest\n",
    "    matchedkeys = []\n",
    "    for key in manifest.keys():\n",
    "        if (f\"sub-{subjectid}\" in key) and (f\"ses-{session}\" in key) and (filetype in key):\n",
    "            matchedkeys.append(key)\n",
    "\n",
    "    # Download/get files\n",
    "    files = []\n",
    "    for key in matchedkeys:\n",
    "        fileurl = manifest[key]\n",
    "        filepath = os.path.join(datafolder, remove_leading_slash(key))\n",
    "        make_folder_for(filepath)\n",
    "        if not os.path.isfile(filepath):\n",
    "            urllib.request.urlretrieve(fileurl, filepath)\n",
    "        files.append(filepath)\n",
    "        \n",
    "    return files\n",
    "\n",
    "def get_flip_angle(filename):\n",
    "    return int(re.search(\"flip(.*?)_VFA\", filename).group(1)) * np.pi/180\n",
    "\n",
    "def get_nifti_data(filename):\n",
    "    return nib.load(filename).get_fdata()\n",
    "\n",
    "def get_tr(filename):\n",
    "    return nib.load(filename).header.get_zooms()[-1]"
   ]
  },
  {
   "cell_type": "markdown",
   "metadata": {},
   "source": [
    "## Down/load data"
   ]
  },
  {
   "cell_type": "markdown",
   "metadata": {},
   "source": [
    "The `get_rider` function can download data from the [RIDERneuro collection](https://wiki.cancerimagingarchive.net/display/Public/RIDER+NEURO+MRI) in the NIfTI format.\n",
    "The input arguments are:\n",
    "\n",
    "- `subjectid` can be between \"01\" to \"19\" for the 19 subjects in the collection\n",
    "- `session` can either be \"1\" or \"2\" and corresponds to the two visits\n",
    "- `filetype` will determine which data will be downloaded. The options include:\n",
    "    - `\"VFA.nii.gz\"` for variable flip angle series (multiple files)\n",
    "    - `\"perf.nii.gz\"` for dynamic contrast enhanced series\n",
    "    - `\"lesion_mask.nii.gz\"` for a manually drawn tumour mask, in DCE-space\n",
    "    - `\"aif_mask.nii.gz\"` for a semi-automatic mask for arterial/vein voxels, in DCE-space\n",
    "    - `\"muscle_mask.nii.gz\"` for a manually drawn mask of the (temporalis?) muscle, in DCE-space\n",
    "    - `\"CSF_probseg.nii.gz\"` for a probabilistic segmentation of cerebrospinal fluid regions, in VFA-space\n",
    "    - `\"WM_probseg.nii.gz\"` for a probabilistic segmentation of white matter, in VFA-space\n",
    "    - `\"GM_probseg.nii.gz\"` for a probabilistic segmentation of grey matter, in VFA-space\n",
    "    \n",
    "Calling `get_rider` will download the data to `./data/RIDERneuro/` and it will return the path to these files. \n",
    "If the files already exist, then nothing new will be downloaded and the path to the existing files will be returned.\n",
    "\n",
    "The NIfTI files can be loaded using `nibabel.load`. For convenience, there is a `get_nifti_data` function defined in this notebook which will pull out the voxel data from the NIfTI file."
   ]
  },
  {
   "cell_type": "code",
   "execution_count": null,
   "metadata": {},
   "outputs": [],
   "source": [
    "subjectid = \"02\"\n",
    "session = \"1\"\n",
    "\n",
    "# VFA data\n",
    "vfafiles = get_rider(subjectid = subjectid, session = session, filetype = \"VFA.nii.gz\")\n",
    "vfasignal = np.stack([get_nifti_data(file) for file in vfafiles], axis = -1)\n",
    "flipangles = np.array([get_flip_angle(file) for file in vfafiles])\n",
    "tr = get_tr(vfafiles[0])\n",
    "\n",
    "# DCE data\n",
    "dcefile = get_rider(subjectid = subjectid, session = session, filetype = \"dce_perf.nii.gz\")[0]\n",
    "dcesignal = get_nifti_data(dcefile)\n",
    "\n",
    "# Mask\n",
    "lesionmaskfile = get_rider(subjectid = subjectid, session = session, filetype = \"lesion_mask.nii.gz\")[0]\n",
    "lesionmask = get_nifti_data(lesionmaskfile) \n",
    "\n",
    "aifmaskfile = get_rider(subjectid = subjectid, session = session, filetype = \"aif_mask.nii.gz\")[0]\n",
    "musclemaskfile = get_rider(subjectid = subjectid, session = session, filetype = \"muscle_mask.nii.gz\")[0]"
   ]
  },
  {
   "cell_type": "markdown",
   "metadata": {},
   "source": [
    "## Viewing the DCE and VFA series\n",
    "\n",
    "Let's look at some of the downloaded files from the previous step.\n",
    "For simplicity, only a single slice will be shown."
   ]
  },
  {
   "cell_type": "code",
   "execution_count": null,
   "metadata": {},
   "outputs": [],
   "source": [
    "chosenslice = 5\n",
    "vfasignal = vfasignal[:,:,chosenslice,:]\n",
    "dcesignal = dcesignal[:,:,chosenslice,:]\n",
    "lesionmask = lesionmask[:,:,chosenslice]"
   ]
  },
  {
   "cell_type": "markdown",
   "metadata": {},
   "source": [
    "The VFA data consists of the same volume acquired using 6 different flip angles."
   ]
  },
  {
   "cell_type": "code",
   "execution_count": null,
   "metadata": {
    "tags": [
     "hide-input"
    ]
   },
   "outputs": [],
   "source": [
    "fig, _axes = plt.subplots(2, 3, figsize=(16,10))\n",
    "for (idx, ax) in enumerate(fig.axes):\n",
    "    ax.imshow(vfasignal[:,:,idx], clim = (20, 250))\n",
    "    ax.axes.xaxis.set_visible(False)\n",
    "    ax.axes.yaxis.set_visible(False)\n",
    "    ax.grid(False)\n",
    "    plt.sca(ax)\n",
    "    fa = idx*5 + 5\n",
    "    plt.title(f\"{fa} degree flip angle\")"
   ]
  },
  {
   "cell_type": "markdown",
   "metadata": {},
   "source": [
    "The magnetization (M0) and T1 values can be estimated from the VFA data."
   ]
  },
  {
   "cell_type": "code",
   "execution_count": null,
   "metadata": {},
   "outputs": [],
   "source": [
    "%time mcgill_lls = vfa_fit(vfasignal, flipangles, tr, author = \"mcgill\", fittype = \"linear\")\n",
    "show_maps(mcgill_lls, title = \"T1 mapping with linear least squares\");"
   ]
  },
  {
   "cell_type": "markdown",
   "metadata": {},
   "source": [
    "The estimated T1 values can then be used to convert the DCE-MRI signal into tracer concentration (not yet implemented).\n",
    "\n",
    "The DCE-MRI series is shown below, along with the mean signal in each of the masked regions."
   ]
  },
  {
   "cell_type": "code",
   "execution_count": null,
   "metadata": {
    "tags": [
     "hide-input"
    ]
   },
   "outputs": [],
   "source": [
    "fig, (ax1, ax2, ax3) = plt.subplots(1, 3, figsize=(16,6))\n",
    "ax1.imshow(dcesignal[:,:,0], clim = (20, 125))\n",
    "ax1.grid(False)\n",
    "ax1.axes.xaxis.set_visible(False)\n",
    "ax1.axes.yaxis.set_visible(False)\n",
    "plt.sca(ax1)\n",
    "plt.title(\"Pre-contrast\")\n",
    "\n",
    "ax2.imshow(dcesignal[:,:,-1], clim = (20, 125))\n",
    "ax2.grid(False)\n",
    "ax2.axes.xaxis.set_visible(False)\n",
    "ax2.axes.yaxis.set_visible(False)\n",
    "plt.sca(ax2)\n",
    "plt.title(\"Post-contrast\")\n",
    "fig.tight_layout()\n",
    "\n",
    "ax3.imshow(dcesignal[:,:,-1], clim = (20, 125))\n",
    "ax3.contour(lesionmask, alpha = 0.5, colors='k')\n",
    "ax3.grid(False)\n",
    "ax3.axes.xaxis.set_visible(False)\n",
    "ax3.axes.yaxis.set_visible(False)\n",
    "plt.sca(ax3)\n",
    "plt.title(\"Post-contrast with lesion contour\")\n",
    "fig.tight_layout()"
   ]
  },
  {
   "cell_type": "code",
   "execution_count": null,
   "metadata": {},
   "outputs": [],
   "source": [
    "from nilearn.masking import apply_mask\n",
    "\n",
    "lesioncurves = apply_mask(dcefile, lesionmaskfile)\n",
    "aifcurves = apply_mask(dcefile, aifmaskfile)\n",
    "musclecurves = apply_mask(dcefile, musclemaskfile)\n",
    "\n",
    "fig, ax = plt.subplots(1, 1, figsize=(16,6))\n",
    "ax.plot(lesioncurves.mean(axis = 1), label = \"Lesion\")\n",
    "ax.plot(aifcurves.mean(axis = 1), label = \"Blood vessel\")\n",
    "ax.plot(musclecurves.mean(axis = 1), label = \"Muscle\")\n",
    "plt.title(\"Mean signal-time curve in different manually defined regions\")\n",
    "ax.legend();"
   ]
  },
  {
   "cell_type": "code",
   "execution_count": null,
   "metadata": {},
   "outputs": [],
   "source": []
  }
 ],
 "metadata": {
  "kernelspec": {
   "display_name": "Python 3",
   "language": "python",
   "name": "python3"
  },
  "language_info": {
   "codemirror_mode": {
    "name": "ipython",
    "version": 3
   },
   "file_extension": ".py",
   "mimetype": "text/x-python",
   "name": "python",
   "nbconvert_exporter": "python",
   "pygments_lexer": "ipython3",
   "version": "3.8.5"
  }
 },
 "nbformat": 4,
 "nbformat_minor": 4
}
