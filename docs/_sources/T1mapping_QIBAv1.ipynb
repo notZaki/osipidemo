{
 "cells": [
  {
   "cell_type": "markdown",
   "metadata": {},
   "source": [
    "# QIBA v1"
   ]
  },
  {
   "cell_type": "code",
   "execution_count": null,
   "metadata": {
    "tags": [
     "hide-input"
    ]
   },
   "outputs": [],
   "source": [
    "import matplotlib.pyplot as plt\n",
    "plt.style.use('https://gist.github.com/notZaki/8bfb049230e307f4432fd68d24c603a1/raw/c0baa2a1c55afdf1764b26ee2ebeb1cbf26d8d98/pltstyle')"
   ]
  },
  {
   "cell_type": "markdown",
   "metadata": {},
   "source": [
    "The following tests are on the [QIBA](https://sites.duke.edu/dblab/qibacontent/) v1 phantom. \n",
    "\n",
    "First, let's download the data:"
   ]
  },
  {
   "cell_type": "code",
   "execution_count": null,
   "metadata": {},
   "outputs": [],
   "source": [
    "from osipi_code_collection.wrappers.vfa import vfa_fit, show_maps, show_error_maps\n",
    "from osipi_code_collection.utils.nb import download_osf, loadmat\n",
    "\n",
    "vfafile = \"./data/vfadata.mat\"\n",
    "download_osf(\"https://osf.io/jzu4k/download\", vfafile)\n",
    "vfadata = loadmat(vfafile)"
   ]
  },
  {
   "cell_type": "markdown",
   "metadata": {},
   "source": [
    "The QIBAv1 phantom consists of a 2D grid containing 7 $M_0$ values, and 15 $T_1$ values.\n",
    "Each parameter combination occupies 10x10 voxels, so the total phantom dimension is 70x150 voxels.\n",
    "The ground truth is show below:"
   ]
  },
  {
   "cell_type": "code",
   "execution_count": null,
   "metadata": {},
   "outputs": [],
   "source": [
    "show_maps(M0 = vfadata.M0, T1 = vfadata.T1, truth = vfadata)"
   ]
  },
  {
   "cell_type": "markdown",
   "metadata": {},
   "source": [
    "## Linear least-squares"
   ]
  },
  {
   "cell_type": "markdown",
   "metadata": {},
   "source": [
    "Linear least squares (LLS) can be used to estimate $M_0$ and $T_1$. The advantage of linear least squares is that it is fast, but has poor accuracy and precision at extreme parameter combinations or under heavy noise.\n",
    "\n",
    "The next section shows the error maps of the fitted parameters for three implementations. They all tend to give identical error maps, but the computation time is slightly different."
   ]
  },
  {
   "cell_type": "markdown",
   "metadata": {},
   "source": [
    "### Edinburgh"
   ]
  },
  {
   "cell_type": "code",
   "execution_count": null,
   "metadata": {
    "tags": [
     "hide-input"
    ]
   },
   "outputs": [],
   "source": [
    "%%time \n",
    "edinburgh_lls = fittedM0, fittedT1 = vfa_fit(\"edinburgh\", fittype = \"linear\", data = vfadata)\n",
    "show_error_maps(edinburgh_lls, truth = vfadata, title = \"Edinburgh LLS\", clim = (-20, 20), showcbar = True);"
   ]
  },
  {
   "cell_type": "markdown",
   "metadata": {},
   "source": [
    "### Sydney"
   ]
  },
  {
   "cell_type": "code",
   "execution_count": null,
   "metadata": {
    "tags": [
     "hide-input"
    ]
   },
   "outputs": [],
   "source": [
    "%%time\n",
    "sydney_lls = vfa_fit(\"sydney\", fittype = \"linear\", data = vfadata)\n",
    "show_error_maps(sydney_lls, truth = vfadata, title = \"Sydney LLS\", clim = (-20, 20), showcbar = True);"
   ]
  },
  {
   "cell_type": "markdown",
   "metadata": {},
   "source": [
    "### McGill"
   ]
  },
  {
   "cell_type": "code",
   "execution_count": null,
   "metadata": {
    "tags": [
     "hide-input"
    ]
   },
   "outputs": [],
   "source": [
    "%%time\n",
    "mcgill_lls = vfa_fit(author = \"mcgill\", fittype = \"linear\", data = vfadata)\n",
    "show_error_maps(mcgill_lls, truth = vfadata, title = \"McGill LLS\", clim = (-20, 20), showcbar = True);"
   ]
  },
  {
   "cell_type": "markdown",
   "metadata": {},
   "source": [
    "## Non-linear least squares"
   ]
  },
  {
   "cell_type": "markdown",
   "metadata": {},
   "source": [
    "Non-Linear least squares (NLS) is slower, but should have better accuracy. \n",
    "\n",
    "The next section shows the error maps of the fitted parameters for three implementations, this time using NLS. Again, they all tend to give identical error maps, but the computation time is slightly different. "
   ]
  },
  {
   "cell_type": "markdown",
   "metadata": {},
   "source": [
    "### Edinburgh"
   ]
  },
  {
   "cell_type": "code",
   "execution_count": null,
   "metadata": {
    "tags": [
     "hide-input"
    ]
   },
   "outputs": [],
   "source": [
    "%%time\n",
    "edinburgh_nls = vfa_fit(data = vfadata, author = \"edinburgh\", fittype = \"nonlinear\")\n",
    "show_error_maps(edinburgh_nls, truth = vfadata, title = \"Edinburgh NLS\", clim = (-20, 20), showcbar = True);"
   ]
  },
  {
   "cell_type": "markdown",
   "metadata": {},
   "source": [
    "### Sydney"
   ]
  },
  {
   "cell_type": "code",
   "execution_count": null,
   "metadata": {
    "tags": [
     "hide-input"
    ]
   },
   "outputs": [],
   "source": [
    "%%time \n",
    "sydney_nls = vfa_fit(author = \"sydney\", fittype = \"nonlinear\", data = vfadata)\n",
    "show_error_maps(sydney_nls, truth = vfadata, title = \"Sydney NLS\", clim = (-20, 20), showcbar = True);"
   ]
  },
  {
   "cell_type": "markdown",
   "metadata": {},
   "source": [
    "### McGill"
   ]
  },
  {
   "cell_type": "code",
   "execution_count": null,
   "metadata": {},
   "outputs": [],
   "source": [
    "%%time\n",
    "mcgill_nls = vfa_fit(author = \"mcgill\", fittype = \"nonlinear\", data = vfadata)\n",
    "show_error_maps(mcgill_nls, truth = vfadata, title = \"McGill NLS\", clim = (-20, 20), showcbar = True);"
   ]
  },
  {
   "cell_type": "markdown",
   "metadata": {},
   "source": [
    "The McGill implementation is fast because it is not using a traditional NLS fit."
   ]
  }
 ],
 "metadata": {
  "kernelspec": {
   "display_name": "Python 3",
   "language": "python",
   "name": "python3"
  },
  "language_info": {
   "codemirror_mode": {
    "name": "ipython",
    "version": 3
   },
   "file_extension": ".py",
   "mimetype": "text/x-python",
   "name": "python",
   "nbconvert_exporter": "python",
   "pygments_lexer": "ipython3",
   "version": "3.7.10"
  }
 },
 "nbformat": 4,
 "nbformat_minor": 4
}
