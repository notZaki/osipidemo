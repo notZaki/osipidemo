{
 "cells": [
  {
   "cell_type": "markdown",
   "metadata": {},
   "source": [
    "# RIDERneuro T1 mapping"
   ]
  },
  {
   "cell_type": "code",
   "execution_count": 1,
   "metadata": {
    "tags": [
     "hide-input"
    ]
   },
   "outputs": [],
   "source": [
    "import sys\n",
    "sys.path.insert(0, '../src')"
   ]
  },
  {
   "cell_type": "code",
   "execution_count": 2,
   "metadata": {
    "tags": [
     "hide-input"
    ]
   },
   "outputs": [
    {
     "ename": "ModuleNotFoundError",
     "evalue": "No module named 'scipy'",
     "output_type": "error",
     "traceback": [
      "\u001b[0;31m---------------------------------------------------------------------------\u001b[0m",
      "\u001b[0;31mModuleNotFoundError\u001b[0m                       Traceback (most recent call last)",
      "\u001b[0;32m<ipython-input-2-0d8c669e2753>\u001b[0m in \u001b[0;36m<module>\u001b[0;34m\u001b[0m\n\u001b[0;32m----> 1\u001b[0;31m \u001b[0;32mimport\u001b[0m \u001b[0moriginal\u001b[0m\u001b[0;34m.\u001b[0m\u001b[0mT1_mapping\u001b[0m\u001b[0;34m.\u001b[0m\u001b[0mMJT_EdinburghUK\u001b[0m\u001b[0;34m.\u001b[0m\u001b[0mt1\u001b[0m \u001b[0;32mas\u001b[0m \u001b[0medinburgh\u001b[0m\u001b[0;34m\u001b[0m\u001b[0;34m\u001b[0m\u001b[0m\n\u001b[0m\u001b[1;32m      2\u001b[0m \u001b[0;32mimport\u001b[0m \u001b[0moriginal\u001b[0m\u001b[0;34m.\u001b[0m\u001b[0mT1_mapping\u001b[0m\u001b[0;34m.\u001b[0m\u001b[0mST_SydneyAus\u001b[0m\u001b[0;34m.\u001b[0m\u001b[0mVFAT1mapping\u001b[0m \u001b[0;32mas\u001b[0m \u001b[0msydney\u001b[0m\u001b[0;34m\u001b[0m\u001b[0;34m\u001b[0m\u001b[0m\n\u001b[1;32m      3\u001b[0m \u001b[0;32mimport\u001b[0m \u001b[0moriginal\u001b[0m\u001b[0;34m.\u001b[0m\u001b[0mT1_mapping\u001b[0m\u001b[0;34m.\u001b[0m\u001b[0mMcGill\u001b[0m\u001b[0;34m.\u001b[0m\u001b[0mvfa\u001b[0m \u001b[0;32mas\u001b[0m \u001b[0mmcgill\u001b[0m\u001b[0;34m\u001b[0m\u001b[0;34m\u001b[0m\u001b[0m\n\u001b[1;32m      4\u001b[0m \u001b[0;32mimport\u001b[0m \u001b[0mmatplotlib\u001b[0m\u001b[0;34m.\u001b[0m\u001b[0mpyplot\u001b[0m \u001b[0;32mas\u001b[0m \u001b[0mplt\u001b[0m\u001b[0;34m\u001b[0m\u001b[0;34m\u001b[0m\u001b[0m\n\u001b[1;32m      5\u001b[0m \u001b[0;32mimport\u001b[0m \u001b[0mos\u001b[0m\u001b[0;34m\u001b[0m\u001b[0;34m\u001b[0m\u001b[0m\n",
      "\u001b[0;32m~/work/DCE-DSC-MRI_CodeCollection/DCE-DSC-MRI_CodeCollection/src/original/T1_mapping/MJT_EdinburghUK/t1.py\u001b[0m in \u001b[0;36m<module>\u001b[0;34m\u001b[0m\n\u001b[1;32m     14\u001b[0m \u001b[0;34m\u001b[0m\u001b[0m\n\u001b[1;32m     15\u001b[0m \u001b[0;32mimport\u001b[0m \u001b[0mnumpy\u001b[0m \u001b[0;32mas\u001b[0m \u001b[0mnp\u001b[0m\u001b[0;34m\u001b[0m\u001b[0;34m\u001b[0m\u001b[0m\n\u001b[0;32m---> 16\u001b[0;31m \u001b[0;32mfrom\u001b[0m \u001b[0mscipy\u001b[0m\u001b[0;34m.\u001b[0m\u001b[0moptimize\u001b[0m \u001b[0;32mimport\u001b[0m \u001b[0mcurve_fit\u001b[0m\u001b[0;34m\u001b[0m\u001b[0;34m\u001b[0m\u001b[0m\n\u001b[0m\u001b[1;32m     17\u001b[0m \u001b[0;34m\u001b[0m\u001b[0m\n\u001b[1;32m     18\u001b[0m \u001b[0;32mfrom\u001b[0m \u001b[0;34m.\u001b[0m \u001b[0;32mimport\u001b[0m \u001b[0msignal\u001b[0m\u001b[0;34m\u001b[0m\u001b[0;34m\u001b[0m\u001b[0m\n",
      "\u001b[0;31mModuleNotFoundError\u001b[0m: No module named 'scipy'"
     ]
    }
   ],
   "source": [
    "import original.T1_mapping.MJT_EdinburghUK.t1 as edinburgh\n",
    "import original.T1_mapping.ST_SydneyAus.VFAT1mapping as sydney\n",
    "import original.T1_mapping.McGill.vfa as mcgill\n",
    "import matplotlib.pyplot as plt\n",
    "import os\n",
    "import json\n",
    "import re\n",
    "import urllib.request\n",
    "import nibabel as nib\n",
    "import mat73\n",
    "import numpy as np\n",
    "from numpy.linalg import norm\n",
    "\n",
    "plt.style.use('https://gist.github.com/notZaki/8bfb049230e307f4432fd68d24c603a1/raw/c0baa2a1c55afdf1764b26ee2ebeb1cbf26d8d98/pltstyle')"
   ]
  },
  {
   "cell_type": "code",
   "execution_count": null,
   "metadata": {
    "tags": [
     "hide-input"
    ]
   },
   "outputs": [],
   "source": [
    "def remove_leading_slash(pathstring):\n",
    "    if pathstring[0] == \"/\":\n",
    "        return pathstring[1:]\n",
    "    else:\n",
    "        return pathstring\n",
    "\n",
    "\n",
    "def make_folder_for(file):\n",
    "    folder = os.path.dirname(file)\n",
    "    if not os.path.isdir(folder):\n",
    "        os.makedirs(folder)\n",
    "    return\n",
    "\n",
    "\n",
    "def get_manifest(manifestfile, manifesturl = \"https://osf.io/nx5jw/download\"):\n",
    "    if not os.path.isfile(manifestfile):\n",
    "        urllib.request.urlretrieve(manifesturl, manifestfile)\n",
    "    with open(manifestfile) as iostream:\n",
    "        manifest = json.load(iostream)\n",
    "    return manifest\n",
    "\n",
    "\n",
    "def get_rider(subjectid, session, filetype, datafolder = \"./data\"):\n",
    "    # subjectid in [\"01\" to \"19\"]\n",
    "    # session in [1 or 2]\n",
    "    # filetype in [VFA, GRE, perf, mask]\n",
    "\n",
    "    # Download/get manifest\n",
    "    if not os.path.isdir(datafolder): \n",
    "        os.makedirs(datafolder)\n",
    "    manifestfile = os.path.join(datafolder, \"RIDERmanifest.json\")\n",
    "    manifest = get_manifest(manifestfile)\n",
    "\n",
    "    # Find key in manifest\n",
    "    matchedkeys = []\n",
    "    for key in manifest.keys():\n",
    "        if (f\"sub-{subjectid}\" in key) and (f\"ses-{session}\" in key) and (filetype in key):\n",
    "            matchedkeys.append(key)\n",
    "\n",
    "    # Download/get files\n",
    "    files = []\n",
    "    for key in matchedkeys:\n",
    "        fileurl = manifest[key]\n",
    "        filepath = os.path.join(datafolder, remove_leading_slash(key))\n",
    "        make_folder_for(filepath)\n",
    "        if not os.path.isfile(filepath):\n",
    "            urllib.request.urlretrieve(fileurl, filepath)\n",
    "        files.append(filepath)\n",
    "        \n",
    "    return files\n",
    "\n",
    "def get_flip_angle(filename):\n",
    "    return int(re.search(\"flip(.*?)_VFA\", filename).group(1))\n",
    "\n",
    "def get_nifti_data(filename):\n",
    "    return nib.load(filename).get_fdata()\n",
    "\n",
    "def get_tr(filename):\n",
    "    return nib.load(filename).header.get_zooms()[-1]"
   ]
  },
  {
   "cell_type": "code",
   "execution_count": null,
   "metadata": {
    "tags": [
     "hide-input"
    ]
   },
   "outputs": [],
   "source": [
    "def show_maps(fittedmaps, title = \"\"):\n",
    "    fittedM0, fittedT1 = fittedmaps\n",
    "    \n",
    "    climM0 = np.nanquantile(fittedM0, [0.1, 0.98])\n",
    "    fig, (ax1, ax2) = plt.subplots(1, 2, figsize=(16,6))\n",
    "    imM0 = ax1.imshow(fittedM0, clim = climM0)\n",
    "    ax1.grid(False)\n",
    "    plt.sca(ax1)\n",
    "    plt.title(\"M0\")\n",
    "    fig.colorbar(imM0, ax=ax1, orientation='vertical', shrink = 0.5)\n",
    "    \n",
    "    climT1 = np.nanquantile(fittedT1[fittedT1>0], [0.1, 0.98])\n",
    "    imT1 = ax2.imshow(fittedT1, clim = climT1)\n",
    "    ax2.grid(False)\n",
    "    plt.sca(ax2)\n",
    "    plt.title(\"T1\")\n",
    "    fig.colorbar(imT1, ax=ax2, orientation='vertical', shrink = 0.5)\n",
    "    \n",
    "    fig.suptitle(title)\n",
    "    fig.tight_layout()\n",
    "    return\n",
    "\n",
    "def percenterror(estimated, truth):\n",
    "    return 100 * (estimated - truth) / truth\n",
    "\n",
    "def vfa_fit(_signal, _fa, _tr, author, fittype = \"linear\", mask = None):\n",
    "    # Signal: numpy array, last dimension must be flip angle\n",
    "    # fa: flip angles, in radian\n",
    "    # tr: repetition time, in ms\n",
    "    \n",
    "    spatialdims = _signal.shape[:-1]\n",
    "    signal = _signal.reshape(-1, _signal.shape[-1])\n",
    "    if mask != None:\n",
    "        signal = signal[mask[:] > 0, :]\n",
    "        \n",
    "    if author == \"edinburgh\":\n",
    "        fa = _fa\n",
    "        tr = _tr\n",
    "        if fittype == \"nonlinear\":\n",
    "            _M0, _T1 = edinburgh.fit_vfa_nonlinear(signal, fa, tr)\n",
    "        else: # linear\n",
    "            _M0, _T1 = edinburgh.fit_vfa_linear(signal, fa, tr)\n",
    "    elif author == \"sydney\":\n",
    "        fa = np.rad2deg(_fa)\n",
    "        tr = _tr\n",
    "        numvox = np.prod(spatialdims)\n",
    "        _M0 = np.zeros(numvox)\n",
    "        _T1 = np.zeros(numvox)\n",
    "        for idx in range(numvox):\n",
    "            _M0[idx], _T1[idx] = sydney.VFAT1mapping(fa, signal[idx, :], tr, method = fittype)\n",
    "    elif author == \"mcgill\":\n",
    "        fa = _fa\n",
    "        tr = _tr\n",
    "        if fittype == \"nonlinear\":\n",
    "            _M0, _T1 = mcgill.novifast(signal, fa, tr, initialvalues=[10000, 3000])\n",
    "        elif fittype == \"nonlinear_noniterative\":\n",
    "            _M0, _T1 = mcgill.novifast(signal, fa, tr, doiterative = False)\n",
    "        else: # linear\n",
    "            _M0, _T1 = mcgill.despot(signal, fa, tr)\n",
    "    else:\n",
    "        print(\"ERROR: Unexpected author\")\n",
    "        return\n",
    "    \n",
    "    if mask != None:\n",
    "        M0 = np.zeros(spatialdims)\n",
    "        T1 = np.zeros(spatialdims)\n",
    "        M0[mask[:] > 0] = _M0\n",
    "        T1[mask[:] > 0] = _T1\n",
    "    else:\n",
    "        M0 = _M0.reshape(spatialdims)\n",
    "        T1 = _T1.reshape(spatialdims)\n",
    "    return (M0, T1)"
   ]
  },
  {
   "cell_type": "markdown",
   "metadata": {},
   "source": [
    "This demo will use a single scan from the [RIDER neuro MRI collection](https://wiki.cancerimagingarchive.net/display/Public/RIDER+NEURO+MRI)."
   ]
  },
  {
   "cell_type": "code",
   "execution_count": null,
   "metadata": {},
   "outputs": [],
   "source": [
    "vfafiles = get_rider(subjectid = \"01\", session = \"1\", filetype = \"VFA.nii.gz\")\n",
    "signal = np.stack([get_nifti_data(file) for file in vfafiles], axis = -1)\n",
    "flipangles = np.array([get_flip_angle(file) for file in vfafiles])\n",
    "flipangles = np.deg2rad(flipangles)\n",
    "tr = 4.43\n",
    "\n",
    "# Use single slice for faster fitting\n",
    "signal = signal[:,:,8,:]"
   ]
  },
  {
   "cell_type": "markdown",
   "metadata": {},
   "source": [
    "## McGill"
   ]
  },
  {
   "cell_type": "code",
   "execution_count": null,
   "metadata": {},
   "outputs": [],
   "source": [
    "print(\"LLS - McGill\")\n",
    "%time mcgill_lls = vfa_fit(signal, flipangles, tr, author = \"mcgill\", fittype = \"linear\")\n",
    "print(\"\")\n",
    "\n",
    "print(\"NLS - McGill\")\n",
    "%time mcgill_nls = vfa_fit(signal, flipangles, tr, author = \"mcgill\", fittype = \"nonlinear\")"
   ]
  },
  {
   "cell_type": "code",
   "execution_count": null,
   "metadata": {},
   "outputs": [],
   "source": [
    "show_maps(mcgill_lls, title = \"Linear least squares\")\n",
    "show_maps(mcgill_nls, title = \"Nonlinear least squares\")"
   ]
  },
  {
   "cell_type": "markdown",
   "metadata": {},
   "source": [
    "## Edinburgh"
   ]
  },
  {
   "cell_type": "code",
   "execution_count": null,
   "metadata": {},
   "outputs": [],
   "source": [
    "print(\"LLS - Edinburgh\")\n",
    "%time edinburgh_lls = vfa_fit(signal, flipangles, tr, author = \"edinburgh\", fittype = \"linear\")\n",
    "print(\"\")\n",
    "\n",
    "# Skipping NLS because of error\n",
    "# print(\"NLS - Edinburgh\")\n",
    "# %time edinburgh_nls = vfa_fit(signal, flipangles, tr, author = \"edinburgh\", fittype = \"nonlinear\")"
   ]
  },
  {
   "cell_type": "code",
   "execution_count": null,
   "metadata": {},
   "outputs": [],
   "source": [
    "show_maps(edinburgh_lls, title = \"Linear least squares\")"
   ]
  },
  {
   "cell_type": "code",
   "execution_count": null,
   "metadata": {},
   "outputs": [],
   "source": [
    "print(\"LLS - Sydney\")\n",
    "%time sydney_lls = vfa_fit(signal, flipangles, tr, author = \"sydney\", fittype = \"linear\")\n",
    "print(\"\")\n",
    "\n",
    "# Skipping NLS because of error\n",
    "# print(\"NLS - Sydney\")\n",
    "# %time sydney_nls = vfa_fit(signal, flipangles, tr, author = \"sydney\", fittype = \"nonlinear\")"
   ]
  },
  {
   "cell_type": "code",
   "execution_count": null,
   "metadata": {},
   "outputs": [],
   "source": [
    "show_maps(sydney_lls, title = \"Linear least squares\")"
   ]
  }
 ],
 "metadata": {
  "kernelspec": {
   "display_name": "Python 3",
   "language": "python",
   "name": "python3"
  },
  "language_info": {
   "codemirror_mode": {
    "name": "ipython",
    "version": 3
   },
   "file_extension": ".py",
   "mimetype": "text/x-python",
   "name": "python",
   "nbconvert_exporter": "python",
   "pygments_lexer": "ipython3",
   "version": "3.8.8"
  }
 },
 "nbformat": 4,
 "nbformat_minor": 4
}