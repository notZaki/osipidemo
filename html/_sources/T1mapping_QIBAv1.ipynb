{
 "cells": [
  {
   "cell_type": "markdown",
   "metadata": {},
   "source": [
    "# QIBA v1"
   ]
  },
  {
   "cell_type": "code",
   "execution_count": null,
   "metadata": {
    "tags": [
     "hide-input"
    ]
   },
   "outputs": [],
   "source": [
    "import sys\n",
    "sys.path.insert(0, '../src')"
   ]
  },
  {
   "cell_type": "code",
   "execution_count": null,
   "metadata": {
    "tags": [
     "hide-input"
    ]
   },
   "outputs": [],
   "source": [
    "import original.T1_mapping.MJT_EdinburghUK.t1 as edinburgh\n",
    "import original.T1_mapping.ST_SydneyAus.VFAT1mapping as sydney\n",
    "import original.T1_mapping.McGill.vfa as mcgill\n",
    "import matplotlib.pyplot as plt\n",
    "import os\n",
    "import urllib.request\n",
    "import mat73\n",
    "import numpy as np\n",
    "from numpy.linalg import norm\n",
    "\n",
    "plt.style.use('https://gist.github.com/notZaki/8bfb049230e307f4432fd68d24c603a1/raw/c0baa2a1c55afdf1764b26ee2ebeb1cbf26d8d98/pltstyle')"
   ]
  },
  {
   "cell_type": "code",
   "execution_count": null,
   "metadata": {
    "tags": [
     "hide-input"
    ]
   },
   "outputs": [],
   "source": [
    "# Get the file\n",
    "datafolder = \"./data\"\n",
    "if not os.path.isdir(datafolder): os.makedirs(datafolder)\n",
    "\n",
    "t1file = os.path.join(datafolder, \"t1data.mat\")\n",
    "if not os.path.isfile(t1file):\n",
    "    urllib.request.urlretrieve(\"https://osf.io/jzu4k/download\", t1file)\n",
    "\n",
    "# Load file\n",
    "t1data = mat73.loadmat(t1file)"
   ]
  },
  {
   "cell_type": "code",
   "execution_count": null,
   "metadata": {
    "tags": [
     "hide-input"
    ]
   },
   "outputs": [],
   "source": [
    "def show_maps(fittedmaps = None, M0 = None, T1 = None, truthdata = t1data):\n",
    "    if np.any(M0):\n",
    "        fittedM0 = M0\n",
    "        fittedT1 = T1\n",
    "    else:\n",
    "        fittedM0, fittedT1 = fittedmaps\n",
    "    fig, (ax1, ax2) = plt.subplots(1, 2, figsize=(16,8))\n",
    "    ax1.imshow(fittedM0)\n",
    "    ax1.grid(False)\n",
    "    plt.sca(ax1)\n",
    "    plt.title(\"M0\")\n",
    "    plt.xticks(np.arange(5, 150, 10), np.round((np.unique(truthdata.T1))).astype(int), rotation=45, ha=\"right\")\n",
    "    plt.yticks(np.arange(5, 70, 10), np.round((np.unique(truthdata.M0))).astype(int))\n",
    "    \n",
    "    ax2.imshow(fittedT1)\n",
    "    ax2.grid(False)\n",
    "    plt.sca(ax2)\n",
    "    plt.title(\"T1\")\n",
    "    plt.xticks(np.arange(5, 150, 10), np.round((np.unique(truthdata.T1))).astype(int), rotation=45, ha=\"right\")\n",
    "    plt.yticks(np.arange(5, 70, 10), np.round((np.unique(truthdata.M0))).astype(int))\n",
    "    \n",
    "    fig.tight_layout()\n",
    "    return\n",
    "\n",
    "def show_error_maps(fittedmaps, title = \"\", showcbar = False, truthdata = t1data, clim = (-100, 100)):\n",
    "    fittedM0, fittedT1 = fittedmaps\n",
    "    fig, (ax1, ax2) = plt.subplots(1, 2, figsize=(16,4))\n",
    "    ax1.imshow(percenterror(fittedM0, truthdata.M0), cmap = \"PuOr_r\", clim = clim)\n",
    "    ax1.grid(False)\n",
    "    plt.sca(ax1)\n",
    "    plt.title(\"%error in M0\")\n",
    "    plt.xticks(np.arange(5, 150, 10), np.round((np.unique(truthdata.T1))).astype(int), rotation=45, ha=\"right\")\n",
    "    plt.yticks(np.arange(5, 70, 10), np.round((np.unique(truthdata.M0))).astype(int))\n",
    "    \n",
    "    im = ax2.imshow(percenterror(fittedT1, truthdata.T1), cmap = \"PuOr_r\", clim = clim)\n",
    "    ax2.grid(False)\n",
    "    plt.sca(ax2)\n",
    "    plt.title(\"%error in T1\")\n",
    "    plt.xticks(np.arange(5, 150, 10), np.round((np.unique(truthdata.T1))).astype(int), rotation=45, ha=\"right\")\n",
    "    plt.yticks(np.arange(5, 70, 10), np.round((np.unique(truthdata.M0))).astype(int))\n",
    "    \n",
    "    fig.suptitle(title)\n",
    "    if showcbar:\n",
    "        fig.colorbar(im, ax=[ax1,ax2], orientation='horizontal', shrink = 0.5)\n",
    "    else:\n",
    "        fig.tight_layout()\n",
    "    return\n",
    "\n",
    "def percenterror(estimated, truth):\n",
    "    return 100 * (estimated - truth) / truth\n",
    "\n",
    "# Wrapper --- should move this to library\n",
    "def vfa_fit(_signal, _fa, _tr, author, fittype = \"linear\", mask = None):\n",
    "    # Signal: numpy array, last dimension must be flip angle\n",
    "    # fa: flip angles, in radian\n",
    "    # tr: repetition time, in ms\n",
    "    \n",
    "    spatialdims = _signal.shape[:-1]\n",
    "    signal = _signal.reshape(-1, _signal.shape[-1])\n",
    "    if mask != None:\n",
    "        signal = signal[mask[:] > 0, :]\n",
    "        \n",
    "    if author == \"edinburgh\":\n",
    "        fa = _fa\n",
    "        tr = _tr\n",
    "        if fittype == \"nonlinear\":\n",
    "            _M0, _T1 = edinburgh.fit_vfa_nonlinear(signal, fa, tr)\n",
    "        else: # linear\n",
    "            _M0, _T1 = edinburgh.fit_vfa_linear(signal, fa, tr)\n",
    "    elif author == \"sydney\":\n",
    "        fa = np.rad2deg(_fa)\n",
    "        tr = _tr\n",
    "        numvox = np.prod(spatialdims)\n",
    "        _M0 = np.zeros(numvox)\n",
    "        _T1 = np.zeros(numvox)\n",
    "        for idx in range(numvox):\n",
    "            _M0[idx], _T1[idx] = sydney.VFAT1mapping(fa, signal[idx, :], tr, method = fittype)\n",
    "    elif author == \"mcgill\":\n",
    "        fa = _fa\n",
    "        tr = _tr\n",
    "        if fittype == \"nonlinear\":\n",
    "            _M0, _T1 = mcgill.novifast(signal, fa, tr)\n",
    "        elif fittype == \"nonlinear_noniterative\":\n",
    "            _M0, _T1 = mcgill.novifast(signal, fa, tr, doiterative = False)\n",
    "        else: # linear\n",
    "            _M0, _T1 = mcgill.despot(signal, fa, tr)\n",
    "    else:\n",
    "        print(\"ERROR: Unexpected author\")\n",
    "        return\n",
    "    \n",
    "    if mask != None:\n",
    "        M0 = np.zeros(spatialdims)\n",
    "        T1 = np.zeros(spatialdims)\n",
    "        M0[mask[:] > 0] = _M0\n",
    "        T1[mask[:] > 0] = _T1\n",
    "    else:\n",
    "        M0 = _M0.reshape(spatialdims)\n",
    "        T1 = _T1.reshape(spatialdims)\n",
    "    return (M0, T1)"
   ]
  },
  {
   "cell_type": "markdown",
   "metadata": {},
   "source": [
    "The following tests are on the [QIBA](https://sites.duke.edu/dblab/qibacontent/) v1 phantom. \n",
    "The phantom consists of a 2D grid containing 7 $M_0$ values, and 15 $T_1$ values.\n",
    "\n",
    "The ground truth is show below:"
   ]
  },
  {
   "cell_type": "code",
   "execution_count": null,
   "metadata": {},
   "outputs": [],
   "source": [
    "show_maps(M0 = t1data.M0, T1 = t1data.T1)"
   ]
  },
  {
   "cell_type": "markdown",
   "metadata": {},
   "source": [
    "## Linear least-squares"
   ]
  },
  {
   "cell_type": "markdown",
   "metadata": {},
   "source": [
    "### Edinburgh"
   ]
  },
  {
   "cell_type": "code",
   "execution_count": null,
   "metadata": {},
   "outputs": [],
   "source": [
    "%%time \n",
    "edinburgh_lls = fittedM0, fittedT1 =  vfa_fit(t1data.signal, t1data.fa, t1data.TR, author = \"edinburgh\", fittype = \"linear\")\n",
    "show_maps(edinburgh_lls); "
   ]
  },
  {
   "cell_type": "markdown",
   "metadata": {},
   "source": [
    "### Sydney"
   ]
  },
  {
   "cell_type": "code",
   "execution_count": null,
   "metadata": {},
   "outputs": [],
   "source": [
    "%%time\n",
    "sydney_lls = vfa_fit(t1data.signal, t1data.fa, t1data.TR, author = \"sydney\", fittype = \"linear\")\n",
    "show_maps(sydney_lls)"
   ]
  },
  {
   "cell_type": "markdown",
   "metadata": {},
   "source": [
    "### McGill"
   ]
  },
  {
   "cell_type": "code",
   "execution_count": null,
   "metadata": {},
   "outputs": [],
   "source": [
    "%%time\n",
    "mcgill_lls = vfa_fit(t1data.signal, t1data.fa, t1data.TR, author = \"mcgill\", fittype = \"linear\")\n",
    "show_maps(mcgill_lls)"
   ]
  },
  {
   "cell_type": "markdown",
   "metadata": {},
   "source": [
    "# Non-linear least squares"
   ]
  },
  {
   "cell_type": "markdown",
   "metadata": {},
   "source": [
    "### Edinburgh"
   ]
  },
  {
   "cell_type": "code",
   "execution_count": null,
   "metadata": {},
   "outputs": [],
   "source": [
    "%%time\n",
    "edinburgh_nls =  vfa_fit(t1data.signal, t1data.fa, t1data.TR, author = \"edinburgh\", fittype = \"nonlinear\")\n",
    "show_maps(edinburgh_nls)"
   ]
  },
  {
   "cell_type": "markdown",
   "metadata": {},
   "source": [
    "### Sydney"
   ]
  },
  {
   "cell_type": "code",
   "execution_count": null,
   "metadata": {},
   "outputs": [],
   "source": [
    "%%time \n",
    "sydney_nls = vfa_fit(t1data.signal, t1data.fa, t1data.TR, author = \"sydney\", fittype = \"nonlinear\")\n",
    "show_maps(sydney_nls)"
   ]
  },
  {
   "cell_type": "markdown",
   "metadata": {},
   "source": [
    "### McGill"
   ]
  },
  {
   "cell_type": "code",
   "execution_count": null,
   "metadata": {},
   "outputs": [],
   "source": [
    "%%time\n",
    "mcgill_nls = vfa_fit(t1data.signal, t1data.fa, t1data.TR, author = \"mcgill\", fittype = \"nonlinear\")\n",
    "show_maps(mcgill_nls)"
   ]
  },
  {
   "cell_type": "markdown",
   "metadata": {},
   "source": [
    "## Percent error maps"
   ]
  },
  {
   "cell_type": "markdown",
   "metadata": {},
   "source": [
    "### Linear least-squares"
   ]
  },
  {
   "cell_type": "code",
   "execution_count": null,
   "metadata": {},
   "outputs": [],
   "source": [
    "clim = (-20, 20)\n",
    "show_error_maps(edinburgh_lls, title = \"Edinburgh LLS\", clim = clim);\n",
    "show_error_maps(sydney_lls, title = \"Sydney LLS\", clim = clim);\n",
    "show_error_maps(mcgill_lls, title = \"McGill LLS\", clim = clim, showcbar = True);"
   ]
  },
  {
   "cell_type": "markdown",
   "metadata": {},
   "source": [
    "### Non-linear least squares"
   ]
  },
  {
   "cell_type": "code",
   "execution_count": null,
   "metadata": {},
   "outputs": [],
   "source": [
    "clim = (-20, 20)\n",
    "show_error_maps(edinburgh_nls, title = \"Edinburgh NLS\", clim = clim)\n",
    "show_error_maps(sydney_nls, title = \"Sydney NLS\", clim = clim)\n",
    "show_error_maps(mcgill_nls, title = \"McGill NLS\", clim = clim, showcbar = True);"
   ]
  },
  {
   "cell_type": "markdown",
   "metadata": {},
   "source": [
    "### Linear vs Non-linear fitting"
   ]
  },
  {
   "cell_type": "code",
   "execution_count": null,
   "metadata": {},
   "outputs": [],
   "source": [
    "clim = (-20, 20)\n",
    "show_error_maps(edinburgh_lls, title = \"Linear least squares\", clim = clim)\n",
    "show_error_maps(edinburgh_nls, title = \"Non-linear least squares\", clim = clim, showcbar = True);"
   ]
  }
 ],
 "metadata": {
  "kernelspec": {
   "display_name": "Python 3",
   "language": "python",
   "name": "python3"
  },
  "language_info": {
   "codemirror_mode": {
    "name": "ipython",
    "version": 3
   },
   "file_extension": ".py",
   "mimetype": "text/x-python",
   "name": "python",
   "nbconvert_exporter": "python",
   "pygments_lexer": "ipython3",
   "version": "3.8.5"
  }
 },
 "nbformat": 4,
 "nbformat_minor": 4
}
