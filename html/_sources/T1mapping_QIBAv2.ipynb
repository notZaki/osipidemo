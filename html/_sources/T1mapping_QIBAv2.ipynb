{
 "cells": [
  {
   "cell_type": "markdown",
   "metadata": {},
   "source": [
    "# QIBA v2"
   ]
  },
  {
   "cell_type": "code",
   "execution_count": null,
   "metadata": {
    "tags": [
     "hide-input"
    ]
   },
   "outputs": [],
   "source": [
    "import sys\n",
    "sys.path.insert(0, '../src')"
   ]
  },
  {
   "cell_type": "code",
   "execution_count": null,
   "metadata": {
    "tags": [
     "hide-input"
    ]
   },
   "outputs": [],
   "source": [
    "import original.T1_mapping.MJT_EdinburghUK.t1 as edinburgh\n",
    "import original.T1_mapping.ST_SydneyAus.VFAT1mapping as sydney\n",
    "import original.T1_mapping.McGill.vfa as mcgill\n",
    "import matplotlib.pyplot as plt\n",
    "import os\n",
    "import urllib.request\n",
    "import mat73\n",
    "import numpy as np\n",
    "from numpy.linalg import norm\n",
    "\n",
    "from matplotlib import animation\n",
    "from IPython.display import HTML\n",
    "\n",
    "plt.style.use('https://gist.github.com/notZaki/8bfb049230e307f4432fd68d24c603a1/raw/c0baa2a1c55afdf1764b26ee2ebeb1cbf26d8d98/pltstyle')"
   ]
  },
  {
   "cell_type": "code",
   "execution_count": null,
   "metadata": {
    "tags": [
     "hide-input"
    ]
   },
   "outputs": [],
   "source": [
    "# Get the file\n",
    "datafolder = \"./data\"\n",
    "if not os.path.isdir(datafolder): os.makedirs(datafolder)\n",
    "\n",
    "t1file = os.path.join(datafolder, \"t1data_v2.mat\")\n",
    "if not os.path.isfile(t1file):\n",
    "    urllib.request.urlretrieve(\"https://osf.io/3hwtc/download\", t1file)\n",
    "\n",
    "# Open file\n",
    "\n",
    "t1data = mat73.loadmat(t1file)\n",
    "t1data.keys()"
   ]
  },
  {
   "cell_type": "code",
   "execution_count": null,
   "metadata": {
    "tags": [
     "hide-input"
    ]
   },
   "outputs": [],
   "source": [
    "def show_error_maps(fittedmaps, sigmaidx = 0, title = \"\", showcbar = False, truthdata = t1data, clim = (-100, 100)):\n",
    "    fittedM0, fittedT1 = fittedmaps\n",
    "    fittedM0 = fittedM0[:,:,sigmaidx]\n",
    "    fittedT1 = fittedT1[:,:,sigmaidx]\n",
    "    \n",
    "    fig, (ax1, ax2) = plt.subplots(1, 2, figsize=(16,4))\n",
    "    ax1.imshow(percenterror(fittedM0, truthdata.M0), cmap = \"PuOr_r\", clim = clim)\n",
    "    ax1.grid(False)\n",
    "    plt.sca(ax1)\n",
    "    plt.title(\"%error in M0\")\n",
    "    plt.xticks(np.arange(5, 150, 10), np.round((np.unique(truthdata.T1))).astype(int), rotation=45, ha=\"right\")\n",
    "    plt.yticks(np.arange(5, 70, 10), np.round((np.unique(truthdata.M0))).astype(int))\n",
    "    \n",
    "    im = ax2.imshow(percenterror(fittedT1, truthdata.T1), cmap = \"PuOr_r\", clim = clim)\n",
    "    ax2.grid(False)\n",
    "    plt.sca(ax2)\n",
    "    plt.title(\"%error in T1\")\n",
    "    plt.xticks(np.arange(5, 150, 10), np.round((np.unique(truthdata.T1))).astype(int), rotation=45, ha=\"right\")\n",
    "    plt.yticks(np.arange(5, 70, 10), np.round((np.unique(truthdata.M0))).astype(int))\n",
    "    \n",
    "    fig.suptitle(title)\n",
    "    if showcbar:\n",
    "        fig.colorbar(im, ax=[ax1,ax2], orientation='horizontal', shrink = 0.5)\n",
    "    else:\n",
    "        fig.tight_layout()\n",
    "    \n",
    "    return fig\n",
    "\n",
    "\n",
    "def percenterror(estimated, truth):\n",
    "    return 100 * (estimated - truth) / truth\n",
    "\n",
    "def vfa_fit(_signal, _fa, _tr, author, fittype = \"linear\", mask = None):\n",
    "    # Signal: numpy array, last dimension must be flip angle\n",
    "    # fa: flip angles, in radian\n",
    "    # tr: repetition time, in ms\n",
    "    \n",
    "    spatialdims = _signal.shape[:-1]\n",
    "    signal = _signal.reshape(-1, _signal.shape[-1])\n",
    "    if mask != None:\n",
    "        signal = signal[mask[:] > 0, :]\n",
    "        \n",
    "    if author == \"edinburgh\":\n",
    "        fa = _fa\n",
    "        tr = _tr\n",
    "        if fittype == \"nonlinear\":\n",
    "            _M0, _T1 = edinburgh.fit_vfa_nonlinear(signal, fa, tr)\n",
    "        else: # linear\n",
    "            _M0, _T1 = edinburgh.fit_vfa_linear(signal, fa, tr)\n",
    "    elif author == \"sydney\":\n",
    "        fa = np.rad2deg(_fa)\n",
    "        tr = _tr\n",
    "        numvox = np.prod(spatialdims)\n",
    "        _M0 = np.zeros(numvox)\n",
    "        _T1 = np.zeros(numvox)\n",
    "        for idx in range(numvox):\n",
    "            _M0[idx], _T1[idx] = sydney.VFAT1mapping(fa, signal[idx, :], tr, method = fittype)\n",
    "    elif author == \"mcgill\":\n",
    "        fa = _fa\n",
    "        tr = _tr\n",
    "        if fittype == \"nonlinear\":\n",
    "            _M0, _T1 = mcgill.novifast(signal, fa, tr)\n",
    "        elif fittype == \"nonlinear_noniterative\":\n",
    "            _M0, _T1 = mcgill.novifast(signal, fa, tr, doiterative = False)\n",
    "        else: # linear\n",
    "            _M0, _T1 = mcgill.despot(signal, fa, tr)\n",
    "    else:\n",
    "        print(\"ERROR: Unexpected author\")\n",
    "        return\n",
    "    \n",
    "    if mask != None:\n",
    "        M0 = np.zeros(spatialdims)\n",
    "        T1 = np.zeros(spatialdims)\n",
    "        M0[mask[:] > 0] = _M0\n",
    "        T1[mask[:] > 0] = _T1\n",
    "    else:\n",
    "        M0 = _M0.reshape(spatialdims)\n",
    "        T1 = _T1.reshape(spatialdims)\n",
    "    return (M0, T1)"
   ]
  },
  {
   "cell_type": "markdown",
   "metadata": {},
   "source": [
    "The following tests are on the [QIBA](https://sites.duke.edu/dblab/qibacontent/) v2 phantom[^1]. \n",
    "The phantom is identical to QIBA v1 and consists of a 2D grid containing 7 $M_0$ values, and 15 $T_1$ values.\n",
    "However, unlike QIBA v1, the v2 phantom has noise with $\\sigma = \\{2, 5, 10, 20, 50, 100\\}$\n",
    "\n",
    "[^1]: This could've been QIBA v3, as v2 and v3 are identical"
   ]
  },
  {
   "cell_type": "code",
   "execution_count": null,
   "metadata": {},
   "outputs": [],
   "source": [
    "print(\"LLS - McGill\")\n",
    "%time mcgill_lls = vfa_fit(t1data.signal, t1data.fa, t1data.TR, author = \"mcgill\", fittype = \"linear\")\n",
    "print(\" \")\n",
    "\n",
    "print(\"NLS - McGill\")\n",
    "%time mcgill_nls = vfa_fit(t1data.signal, t1data.fa, t1data.TR, author = \"mcgill\", fittype = \"nonlinear\")"
   ]
  },
  {
   "cell_type": "code",
   "execution_count": null,
   "metadata": {},
   "outputs": [],
   "source": [
    "show_error_maps(mcgill_lls, 0, title = \"Linear least squares\")\n",
    "show_error_maps(mcgill_nls, 0, title = \"Non-linear least squares\", showcbar = True)"
   ]
  },
  {
   "cell_type": "code",
   "execution_count": null,
   "metadata": {},
   "outputs": [],
   "source": [
    "show_error_maps(mcgill_lls, 1, title = \"Linear least squares\")\n",
    "show_error_maps(mcgill_nls, 1, title = \"Non-linear least squares\", showcbar = True)"
   ]
  },
  {
   "cell_type": "code",
   "execution_count": null,
   "metadata": {},
   "outputs": [],
   "source": [
    "show_error_maps(mcgill_lls, 2, title = \"Linear least squares\")\n",
    "show_error_maps(mcgill_nls, 2, title = \"Non-linear least squares\", showcbar = True)"
   ]
  },
  {
   "cell_type": "code",
   "execution_count": null,
   "metadata": {},
   "outputs": [],
   "source": [
    "show_error_maps(mcgill_lls, 3, title = \"Linear least squares\")\n",
    "show_error_maps(mcgill_nls, 3, title = \"Non-linear least squares\", showcbar = True)"
   ]
  },
  {
   "cell_type": "code",
   "execution_count": null,
   "metadata": {},
   "outputs": [],
   "source": [
    "show_error_maps(mcgill_lls, 4, title = \"Linear least squares\")\n",
    "show_error_maps(mcgill_nls, 4, title = \"Non-linear least squares\", showcbar = True)"
   ]
  },
  {
   "cell_type": "code",
   "execution_count": null,
   "metadata": {},
   "outputs": [],
   "source": [
    "show_error_maps(mcgill_lls, 5, title = \"Linear least squares\")\n",
    "show_error_maps(mcgill_nls, 5, title = \"Non-linear least squares\", showcbar = True)"
   ]
  },
  {
   "cell_type": "code",
   "execution_count": null,
   "metadata": {},
   "outputs": [],
   "source": [
    "# The above can be repeated with other implementations:\n",
    "\n",
    "# print(\"LLS - Edinburgh\")\n",
    "# %time edinburgh_lls = vfa_fit(t1data.signal, t1data.fa, t1data.TR, author = \"edinburgh\", fittype = \"linear\")\n",
    "# print(\" \")\n",
    "\n",
    "# print(\"LLS - Sydney\")\n",
    "# %time sydney_lls = vfa_fit(t1data.signal, t1data.fa, t1data.TR, author = \"sydney\", fittype = \"linear\")\n",
    "# print(\" \")\n",
    "\n",
    "## The NLS implementation sometimes give an error\n",
    "\n",
    "# print(\"NLS - Edinburgh\")\n",
    "# %time edinburgh_nls = vfa_fit(t1data.signal, t1data.fa, t1data.TR, author = \"edinburgh\", fittype = \"nonlinear\")\n",
    "# print(\" \")\n",
    "\n",
    "# print(\"NLS - Sydney\")\n",
    "# %time sydney_nls = vfa_fit(t1data.signal, t1data.fa, t1data.TR, author = \"sydney\", fittype = \"nonlinear\")\n",
    "# print(\" \")"
   ]
  },
  {
   "cell_type": "code",
   "execution_count": null,
   "metadata": {},
   "outputs": [],
   "source": []
  }
 ],
 "metadata": {
  "kernelspec": {
   "display_name": "Python 3",
   "language": "python",
   "name": "python3"
  },
  "language_info": {
   "codemirror_mode": {
    "name": "ipython",
    "version": 3
   },
   "file_extension": ".py",
   "mimetype": "text/x-python",
   "name": "python",
   "nbconvert_exporter": "python",
   "pygments_lexer": "ipython3",
   "version": "3.8.5"
  }
 },
 "nbformat": 4,
 "nbformat_minor": 4
}
