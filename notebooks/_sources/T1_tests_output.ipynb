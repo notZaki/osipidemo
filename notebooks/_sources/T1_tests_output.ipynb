{
 "cells": [
  {
   "cell_type": "markdown",
   "metadata": {},
   "source": [
    "# Visualize output T1 mapping tests"
   ]
  },
  {
   "cell_type": "code",
   "execution_count": null,
   "metadata": {
    "tags": [
     "hide-input"
    ]
   },
   "outputs": [],
   "source": [
    "import os\n",
    "import numpy\n",
    "from matplotlib import pyplot\n",
    "import csv\n",
    "import pandas"
   ]
  },
  {
   "cell_type": "markdown",
   "metadata": {},
   "source": [
    "This is a try-out to visualize the test results from T1 mapping tests"
   ]
  },
  {
   "cell_type": "markdown",
   "metadata": {},
   "source": [
    "## Linear fit methods"
   ]
  },
  {
   "cell_type": "markdown",
   "metadata": {},
   "source": [
    "### Open cvs files with test results\n",
    "Those are stored in test/results/ (this might need to change if we store multiple test files)"
   ]
  },
  {
   "cell_type": "code",
   "execution_count": null,
   "metadata": {
    "tags": []
   },
   "outputs": [],
   "source": [
    "# first file of MJT\n",
    "resultdir = \"../test/results/\"\n",
    "\n",
    "file_test_MJT = os.path.join(resultdir, \"TestResults_T1mapping_test_MJT_EdinburghUK_t1_VFA_lin.csv\")\n",
    "\n",
    "data_MJT = pandas.read_csv(file_test_MJT)\n",
    "r1_ref = data_MJT['r1_ref']\n",
    "r1_MJT = data_MJT['r1_measured']\n",
    "label_MJT = 'MJT_EdinburghUK'\n",
    "\n",
    "# file of Mcgill\n",
    "file_test_Mcgill = os.path.join(resultdir, \"TestResults_T1mapping_test_mcgill_t1_VFA_lin.csv\")\n",
    "data_Mcgill = pandas.read_csv(file_test_Mcgill)\n",
    "r1_Mcgill = data_Mcgill['r1_measured']\n",
    "label_Mcgill = 'McGill_Can'\n",
    "\n",
    "# file of ST_SydneyAus\n",
    "file_test_ST = os.path.join(resultdir, \"TestResults_T1mapping_test_ST_SydneyAus_t1_VFA_lin.csv\")\n",
    "data_ST = pandas.read_csv(file_test_ST)\n",
    "r1_ST = data_ST['r1_measured']\n",
    "label_ST = 'ST_SydneyAus'\n",
    "\n",
    "# file of OG_MO_AUMC_ICR_RHM\n",
    "file_test_OG = os.path.join(resultdir, \"TestResults_T1mapping_test_OG_MO_AUMC_ICR_RHM_t1_VFA_2fa.csv\")\n",
    "data_OG = pandas.read_csv(file_test_OG)\n",
    "r1_OG = data_OG['r1_measured']\n",
    "label_OG = 'OG_MO_AUMC_ICR_RHM'\n",
    "            "
   ]
  },
  {
   "cell_type": "markdown",
   "metadata": {
    "tags": []
   },
   "source": [
    "### DRO results\n",
    "DRO data is are stored at rows 77 to 121 (corresponding to indices 76:120). Not sure if there is a better way then hardcoding this?\n",
    "\n",
    "Plot figures in a bland-altman kind of way with on the x-axis the reference values and on the y-axis the difference between measured and true values.\n"
   ]
  },
  {
   "cell_type": "code",
   "execution_count": null,
   "metadata": {},
   "outputs": [],
   "source": [
    "# calculate difference between measured and reference values\n",
    "index_list = numpy.arange(76,121)\n",
    "ref_DRO = r1_ref[index_list]\n",
    "r1_MJT_DRO = r1_MJT[index_list]\n",
    "r1_Mcgill_DRO = r1_Mcgill[index_list]\n",
    "r1_ST_DRO = r1_ST[index_list]\n",
    "r1_OG_DRO = r1_OG[index_list]\n",
    "\n",
    "diff_MJT = r1_MJT_DRO - ref_DRO\n",
    "diff_Mcgill = r1_Mcgill_DRO - ref_DRO\n",
    "diff_ST = r1_ST_DRO - ref_DRO\n",
    "diff_OG = r1_OG_DRO - ref_DRO\n",
    "\n",
    "pyplot.figure(1)\n",
    "pyplot.plot(ref_DRO, diff_MJT, \"ob\", label=label_MJT)\n",
    "pyplot.plot(ref_DRO, diff_Mcgill,\"or\",label=label_Mcgill)\n",
    "pyplot.plot(ref_DRO, diff_ST,\"og\",label=label_ST)\n",
    "pyplot.plot(ref_DRO, diff_OG,\"om\",label=label_OG)\n",
    "pyplot.title('Differences for DRO data')\n",
    "pyplot.xlabel('$r1_{ref}$ ($s^{-1}$)', fontsize=14)\n",
    "pyplot.ylabel('$\\Delta r1$ ($s^{-1}$)', fontsize=14)\n",
    "pyplot.legend()\n",
    "pyplot.show()"
   ]
  },
  {
   "cell_type": "markdown",
   "metadata": {},
   "source": [
    "For the DRO data, the results between the three linear implementations are almost identical."
   ]
  },
  {
   "cell_type": "code",
   "execution_count": null,
   "metadata": {},
   "outputs": [],
   "source": [
    "# extra plot to show differences between three linear methods\n",
    "mean_meas_data = (r1_MJT_DRO + r1_Mcgill_DRO + r1_ST_DRO)/3\n",
    "diff_MJT = r1_MJT_DRO - mean_meas_data\n",
    "diff_Mcgill = r1_Mcgill_DRO - mean_meas_data\n",
    "diff_ST = r1_ST_DRO - mean_meas_data\n",
    "\n",
    "pyplot.figure(1, figsize = (14, 6))\n",
    "pyplot.plot(mean_meas_data, diff_MJT, \"ob\", label=label_MJT)\n",
    "pyplot.plot(mean_meas_data, diff_Mcgill,\"or\",label=label_Mcgill)\n",
    "pyplot.plot(mean_meas_data, diff_ST,\"og\",label=label_ST)\n",
    "pyplot.title('Diff for DRO data vs mean measured data')\n",
    "pyplot.xlabel('$r1_{mean_measured}$ ($s^{-1}$)', fontsize=14)\n",
    "pyplot.ylabel('$\\Delta r1$ ($s^{-1}$)', fontsize=14)\n",
    "pyplot.legend()\n",
    "pyplot.show()"
   ]
  },
  {
   "cell_type": "markdown",
   "metadata": {
    "tags": []
   },
   "source": [
    "### In-vivo results\n",
    "Brain data are for entries 1 to 76\n",
    "Prostate data are for entries 122 to 170"
   ]
  },
  {
   "cell_type": "code",
   "execution_count": null,
   "metadata": {},
   "outputs": [],
   "source": [
    "# calculate difference between measured and reference values\n",
    "index_list_br = numpy.arange(0,76)\n",
    "ref_brain = r1_ref[index_list_br]\n",
    "r1_MJT_brain = r1_MJT[index_list_br]\n",
    "r1_Mcgill_brain = r1_Mcgill[index_list_br]\n",
    "r1_ST_brain = r1_ST[index_list_br]\n",
    "r1_OG_brain = r1_OG[index_list_br]\n",
    "\n",
    "diff_MJT_brain = r1_MJT_brain - ref_brain\n",
    "diff_Mcgill_brain = r1_Mcgill_brain - ref_brain\n",
    "diff_ST_brain = r1_ST_brain - ref_brain\n",
    "diff_OG_brain = r1_OG_brain - ref_brain\n",
    "\n",
    "index_list_pr = numpy.arange(121,170)\n",
    "ref_pr = r1_ref[index_list_pr]\n",
    "r1_MJT_pr = r1_MJT[index_list_pr]\n",
    "r1_Mcgill_pr = r1_Mcgill[index_list_pr]\n",
    "r1_ST_pr = r1_ST[index_list_pr]\n",
    "r1_OG_pr = r1_OG[index_list_pr]\n",
    "\n",
    "diff_MJT_pr = r1_MJT_pr - ref_pr\n",
    "diff_Mcgill_pr = r1_Mcgill_pr - ref_pr\n",
    "diff_ST_pr = r1_ST_pr - ref_pr\n",
    "diff_OG_pr = r1_OG_pr - ref_pr\n",
    "\n",
    "# plot results\n",
    "fig, axs = pyplot.subplots(1, 2, figsize=(16,5))\n",
    "axs[0].plot(ref_brain, diff_MJT_brain, \"ob\", label=label_MJT)\n",
    "axs[0].plot(ref_brain, diff_Mcgill_brain, \"or\", label=label_Mcgill)\n",
    "axs[0].plot(ref_brain, diff_ST_brain,\"og\",label=label_ST)\n",
    "axs[0].plot(ref_brain, diff_OG_brain,\"om\",label=label_OG)\n",
    "axs[0].set_title('Differences for brain data')\n",
    "axs[0].set_xlabel('$r1_{ref}$ ($s^{-1}$)', fontsize=14)\n",
    "axs[0].set_ylabel('$\\Delta r1$ ($s^{-1}$)', fontsize=14)\n",
    "axs[0].legend()\n",
    "\n",
    "axs[1].plot(ref_pr, diff_MJT_pr, \"ob\", label=label_MJT)\n",
    "axs[1].plot(ref_pr, diff_Mcgill_pr, \"or\", label=label_Mcgill)\n",
    "axs[1].plot(ref_pr, diff_ST_pr,\"og\",label=label_ST)\n",
    "axs[1].plot(ref_pr, diff_OG_pr,\"om\",label=label_OG)\n",
    "axs[1].set_title('Differences for prostate data')\n",
    "axs[1].set_xlabel('$r1_{ref}$ ($s^{-1}$)', fontsize=14)\n",
    "axs[1].set_ylabel('$\\Delta r1$ ($s^{-1}$)', fontsize=14)\n",
    "axs[1].legend()\n",
    "\n",
    "fig.tight_layout(pad=3.0)\n",
    "pyplot.show()"
   ]
  },
  {
   "cell_type": "markdown",
   "metadata": {},
   "source": [
    "## Nonlinear fit methods"
   ]
  },
  {
   "cell_type": "markdown",
   "metadata": {
    "tags": []
   },
   "source": [
    "### Open cvs files with test results\n",
    "Those are stored in test/results/"
   ]
  },
  {
   "cell_type": "code",
   "execution_count": null,
   "metadata": {},
   "outputs": [],
   "source": [
    "# first file of MJT\n",
    "file_test_MJT = os.path.join(resultdir, \"TestResults_T1mapping_test_MJT_EdinburghUK_t1_VFA_nonlin.csv\")\n",
    "\n",
    "data_MJT = pandas.read_csv(file_test_MJT)\n",
    "r1_ref = data_MJT['r1_ref']\n",
    "r1_MJT = data_MJT['r1_measured']\n",
    "\n",
    "# file of Mcgill\n",
    "file_test_Mcgill = os.path.join(resultdir, \"TestResults_T1mapping_test_mcgill_t1_novifast.csv\")\n",
    "data_Mcgill = pandas.read_csv(file_test_Mcgill)\n",
    "r1_Mcgill = data_Mcgill['r1_measured']\n",
    "\n",
    "# file of ST\n",
    "file_test_ST = os.path.join(resultdir, \"TestResults_T1mapping_test_ST_SydneyAus_t1_VFA_nonlin.csv\")\n",
    "data_ST = pandas.read_csv(file_test_ST)\n",
    "r1_ST = data_ST['r1_measured']"
   ]
  },
  {
   "cell_type": "markdown",
   "metadata": {
    "tags": []
   },
   "source": [
    "### DRO results\n",
    "DRO data is are stored at rows 77 to 121 (corresponding to indices 76:120). Not sure if there is a better way then hardcoding this?\n",
    "\n",
    "Plot figures in a bland-altman kind of way with on the x-axis the reference values and on the y-axis the difference between measured and true values.\n"
   ]
  },
  {
   "cell_type": "code",
   "execution_count": null,
   "metadata": {},
   "outputs": [],
   "source": [
    "# calculate difference between measured and reference values\n",
    "index_list = numpy.arange(76,121)\n",
    "ref_DRO = r1_ref[index_list]\n",
    "r1_MJT_DRO = r1_MJT[index_list]\n",
    "r1_Mcgill_DRO = r1_Mcgill[index_list]\n",
    "r1_ST_DRO = r1_ST[index_list]\n",
    "\n",
    "diff_MJT = r1_MJT_DRO - ref_DRO\n",
    "diff_Mcgill = r1_Mcgill_DRO - ref_DRO\n",
    "diff_ST = r1_ST_DRO - ref_DRO\n",
    "\n",
    "pyplot.figure(1)\n",
    "pyplot.plot(ref_DRO, diff_MJT, \"ob\", label=label_MJT)\n",
    "pyplot.plot(ref_DRO, diff_Mcgill,\"or\",label=label_Mcgill)\n",
    "pyplot.plot(ref_DRO, diff_ST,\"og\",label=label_ST)\n",
    "pyplot.title('Differences for DRO data')\n",
    "pyplot.xlabel('$r1_{ref}$ ($s^{-1}$)', fontsize=14)\n",
    "pyplot.ylabel('$\\Delta r1$ ($s^{-1}$)', fontsize=14)\n",
    "pyplot.legend()\n",
    "pyplot.show()"
   ]
  },
  {
   "cell_type": "markdown",
   "metadata": {
    "tags": []
   },
   "source": [
    "### In-vivo results\n",
    "Brain data are for entries 1 to 76\n",
    "Prostate data are for entries 122 to 170"
   ]
  },
  {
   "cell_type": "code",
   "execution_count": null,
   "metadata": {},
   "outputs": [],
   "source": [
    "# calculate difference between measured and reference values\n",
    "index_list_br = numpy.arange(0,76)\n",
    "ref_brain = r1_ref[index_list_br]\n",
    "r1_MJT_brain = r1_MJT[index_list_br]\n",
    "r1_Mcgill_brain = r1_Mcgill[index_list_br]\n",
    "r1_ST_brain = r1_ST[index_list_br]\n",
    "\n",
    "diff_MJT_brain = r1_MJT_brain - ref_brain\n",
    "diff_Mcgill_brain = r1_Mcgill_brain - ref_brain\n",
    "diff_ST_brain = r1_ST_brain - ref_brain\n",
    "\n",
    "index_list_pr = numpy.arange(121,170)\n",
    "ref_pr = r1_ref[index_list_pr]\n",
    "r1_MJT_pr = r1_MJT[index_list_pr]\n",
    "r1_Mcgill_pr = r1_Mcgill[index_list_pr]\n",
    "r1_ST_pr = r1_ST[index_list_pr]\n",
    "\n",
    "diff_MJT_pr = r1_MJT_pr - ref_pr\n",
    "diff_Mcgill_pr = r1_Mcgill_pr - ref_pr\n",
    "diff_ST_pr = r1_ST_pr - ref_pr\n",
    "\n",
    "# plot results\n",
    "fig, axs = pyplot.subplots(1, 2, figsize=(13,5))\n",
    "axs[0].plot(ref_brain, diff_MJT_brain, \"ob\", label=label_MJT)\n",
    "axs[0].plot(ref_brain, diff_Mcgill_brain, \"or\", label=label_Mcgill)\n",
    "axs[0].plot(ref_brain, diff_ST_brain, \"og\", label=label_ST)\n",
    "axs[0].set_title('Differences for brain data')\n",
    "axs[0].set_xlabel('$r1_{ref}$ ($s^{-1}$)', fontsize=14)\n",
    "axs[0].set_ylabel('$\\Delta r1$ ($s^{-1}$)', fontsize=14)\n",
    "axs[0].legend()\n",
    "\n",
    "axs[1].plot(ref_pr, diff_MJT_pr, \"ob\", label=label_MJT)\n",
    "axs[1].plot(ref_pr, diff_Mcgill_pr, \"or\", label=label_Mcgill)\n",
    "axs[1].plot(ref_pr, diff_ST_pr, \"og\", label=label_ST)\n",
    "axs[1].set_title('Differences for prostate data')\n",
    "axs[1].set_xlabel('$r1_{ref}$ ($s^{-1}$)', fontsize=14)\n",
    "axs[1].set_ylabel('$\\Delta r1$ ($s^{-1}$)', fontsize=14)\n",
    "axs[1].legend()\n",
    "\n",
    "fig.tight_layout(pad=3.0)\n",
    "pyplot.show()"
   ]
  }
 ],
 "metadata": {
  "kernelspec": {
   "display_name": "Python 3",
   "language": "python",
   "name": "python3"
  },
  "language_info": {
   "codemirror_mode": {
    "name": "ipython",
    "version": 3
   },
   "file_extension": ".py",
   "mimetype": "text/x-python",
   "name": "python",
   "nbconvert_exporter": "python",
   "pygments_lexer": "ipython3",
   "version": "3.8.5"
  }
 },
 "nbformat": 4,
 "nbformat_minor": 5
}
